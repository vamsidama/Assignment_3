{
  "nbformat": 4,
  "nbformat_minor": 0,
  "metadata": {
    "colab": {
      "provenance": []
    },
    "kernelspec": {
      "name": "python3",
      "display_name": "Python 3"
    },
    "language_info": {
      "name": "python"
    }
  },
  "cells": [
    {
      "cell_type": "code",
      "execution_count": 1,
      "metadata": {
        "colab": {
          "base_uri": "https://localhost:8080/"
        },
        "id": "7O_LqkhS31Gy",
        "outputId": "54f6117e-f3d0-4334-cc46-8b2736a201c6"
      },
      "outputs": [
        {
          "output_type": "stream",
          "name": "stdout",
          "text": [
            "Original array:\n",
            " [19  9 11  3 16 14  9 15 18 12  9 17 16 11 18]\n",
            "\n",
            "Reshaped (3x5) array:\n",
            " [[19  9 11  3 16]\n",
            " [14  9 15 18 12]\n",
            " [ 9 17 16 11 18]]\n",
            "\n",
            "Shape of reshaped array: (3, 5)\n",
            "\n",
            "Array after replacing max in each row with 0:\n",
            " [[ 0  9 11  3 16]\n",
            " [14  9 15  0 12]\n",
            " [ 9 17 16 11  0]]\n"
          ]
        }
      ],
      "source": [
        "# Random Vector Tasks\n",
        "\n",
        "import numpy as np\n",
        "\n",
        "# 1. Create random vector of integers from 1 to 20\n",
        "arr = np.random.randint(1, 21, size=15)\n",
        "print(\"Original array:\\n\", arr)\n",
        "\n",
        "# 2. Reshape to 3 by 5\n",
        "reshaped_arr = arr.reshape(3, 5)\n",
        "print(\"\\nReshaped (3x5) array:\\n\", reshaped_arr)\n",
        "\n",
        "# 3. Print shape\n",
        "print(\"\\nShape of reshaped array:\", reshaped_arr.shape)\n",
        "\n",
        "# 4. Replace max in each row with 0\n",
        "for i in range(reshaped_arr.shape[0]):\n",
        "    max_index = reshaped_arr[i].argmax()\n",
        "    reshaped_arr[i][max_index] = 0\n",
        "print(\"\\nArray after replacing max in each row with 0:\\n\", reshaped_arr)\n"
      ]
    },
    {
      "cell_type": "code",
      "source": [
        "# 2D Array with 4-byte Integers\n",
        "\n",
        "array_4x3 = np.zeros((4, 3), dtype=np.int32)\n",
        "print(\"\\n2D array (4x3) with 4-byte integers:\\n\", array_4x3)\n",
        "print(\"Shape:\", array_4x3.shape)\n",
        "print(\"Type:\", type(array_4x3))\n",
        "print(\"Data type:\", array_4x3.dtype)\n"
      ],
      "metadata": {
        "colab": {
          "base_uri": "https://localhost:8080/"
        },
        "id": "BxUd8wbb4GCx",
        "outputId": "24faaba1-2ccf-4c8e-dc75-3eaf28a00a5d"
      },
      "execution_count": 2,
      "outputs": [
        {
          "output_type": "stream",
          "name": "stdout",
          "text": [
            "\n",
            "2D array (4x3) with 4-byte integers:\n",
            " [[0 0 0]\n",
            " [0 0 0]\n",
            " [0 0 0]\n",
            " [0 0 0]]\n",
            "Shape: (4, 3)\n",
            "Type: <class 'numpy.ndarray'>\n",
            "Data type: int32\n"
          ]
        }
      ]
    },
    {
      "cell_type": "code",
      "source": [
        "# Eigenvalues and Eigenvectors\n",
        "\n",
        "A = np.array([[3, -2],\n",
        "              [1,  0]])\n",
        "eigenvalues, eigenvectors = np.linalg.eig(A)\n",
        "print(\"\\nEigenvalues:\\n\", eigenvalues)\n",
        "print(\"Right Eigenvectors:\\n\", eigenvectors)\n"
      ],
      "metadata": {
        "colab": {
          "base_uri": "https://localhost:8080/"
        },
        "id": "gqOwAZ894RzB",
        "outputId": "15b729fb-c0e0-415a-d890-7faf9438cd8e"
      },
      "execution_count": 3,
      "outputs": [
        {
          "output_type": "stream",
          "name": "stdout",
          "text": [
            "\n",
            "Eigenvalues:\n",
            " [2. 1.]\n",
            "Right Eigenvectors:\n",
            " [[0.89442719 0.70710678]\n",
            " [0.4472136  0.70710678]]\n"
          ]
        }
      ]
    },
    {
      "cell_type": "code",
      "source": [
        "# Sum of Diagonal Elements\n",
        "\n",
        "B = np.array([[0, 1, 2],\n",
        "              [3, 4, 5]])\n",
        "diagonal_sum = np.trace(B)\n",
        "print(\"\\nSum of diagonal elements:\", diagonal_sum)\n"
      ],
      "metadata": {
        "colab": {
          "base_uri": "https://localhost:8080/"
        },
        "id": "A9adCQvY4XOs",
        "outputId": "12a25196-54b4-4f74-bf8d-005e6daa0734"
      },
      "execution_count": 4,
      "outputs": [
        {
          "output_type": "stream",
          "name": "stdout",
          "text": [
            "\n",
            "Sum of diagonal elements: 4\n"
          ]
        }
      ]
    },
    {
      "cell_type": "code",
      "source": [
        "# Reshape Without Changing Data\n",
        "\n",
        "original_array = np.array([[1, 2],\n",
        "                           [3, 4],\n",
        "                           [5, 6]])\n",
        "reshaped_array = original_array.reshape(2, 3)\n",
        "print(\"\\nOriginal array (3x2):\\n\", original_array)\n",
        "print(\"Reshaped array (2x3):\\n\", reshaped_array)\n"
      ],
      "metadata": {
        "colab": {
          "base_uri": "https://localhost:8080/"
        },
        "id": "k_zUXVS14e2-",
        "outputId": "6408e918-fd1c-4815-e013-c65d755660df"
      },
      "execution_count": 5,
      "outputs": [
        {
          "output_type": "stream",
          "name": "stdout",
          "text": [
            "\n",
            "Original array (3x2):\n",
            " [[1 2]\n",
            " [3 4]\n",
            " [5 6]]\n",
            "Reshaped array (2x3):\n",
            " [[1 2 3]\n",
            " [4 5 6]]\n"
          ]
        }
      ]
    }
  ]
}